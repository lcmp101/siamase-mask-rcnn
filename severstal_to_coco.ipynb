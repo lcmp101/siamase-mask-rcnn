{
 "cells": [
  {
   "cell_type": "markdown",
   "metadata": {
    "colab_type": "text",
    "id": "Vnb9lneE9nOz"
   },
   "source": [
    "# First Experiment\n",
    "\n",
    "---\n",
    "\n",
    "In this notebook, run on [Colab](https://colab.research.google.com), we are going to perform our first experiment with **Detectron2** with our custom use case.\n",
    "\n",
    "This notebook will be the first of the fourth experiments we have planned to perform, basicaly to check the impact of various initial learning rates within the training process of the model we have decided to mobilize for this study.\n",
    "\n",
    "The chosen model is a Faster/Mask R-CNN COCO instance segmentation model, with ResNet/FPN backbone combination, based on ResNet-50 model and with a learning rate scheduler of 3 (more details can be found [here](https://github.com/facebookresearch/detectron2/blob/master/MODEL_ZOO.md)).\n",
    "\n",
    "As detailed in the presentation page, we choose this one because it obtains the best speed/accuracy tradeoff.\n",
    "\n",
    "Let's going on!\n",
    "\n",
    "---\n",
    "\n",
    "## Detectron2 installation and basic setup\n",
    "\n",
    "In this section, we are going to adapt the procedure given in the notebook present in [Detectron2](https://github.com/facebookresearch/detectron2) GitHub homepage.\n",
    "\n",
    "As always, the prerequisite step consists on loading the appropriate packages to perform our work:"
   ]
  },
  {
   "cell_type": "code",
   "execution_count": 1,
   "metadata": {
    "colab": {},
    "colab_type": "code",
    "id": "lKe_cPVgEuFE"
   },
   "outputs": [],
   "source": [
    "# Needed packages:\n",
    "import json, cv2, random, yaml\n",
    "import pandas as pd\n",
    "import numpy as np\n",
    "from PIL import Image\n",
    "from utils2 import rle_to_mask\n",
    "#from google.colab.patches import cv2_imshow"
   ]
  },
  {
   "cell_type": "markdown",
   "metadata": {
    "colab_type": "text",
    "id": "FVHYTwVaOLc3"
   },
   "source": [
    "Now, we need to check and get some configuration characteristics:"
   ]
  },
  {
   "cell_type": "code",
   "execution_count": 3,
   "metadata": {
    "colab": {
     "base_uri": "https://localhost:8080/",
     "height": 357
    },
    "colab_type": "code",
    "id": "CaPz3Y19OKGc",
    "outputId": "c9896c88-667c-4aa9-8d25-8cf2ba19d8e3"
   },
   "outputs": [
    {
     "name": "stdout",
     "output_type": "stream",
     "text": [
      "Wed Mar 22 12:44:07 2023       \r\n",
      "+-----------------------------------------------------------------------------+\r\n",
      "| NVIDIA-SMI 525.85.05    Driver Version: 525.85.05    CUDA Version: 12.0     |\r\n",
      "|-------------------------------+----------------------+----------------------+\r\n",
      "| GPU  Name        Persistence-M| Bus-Id        Disp.A | Volatile Uncorr. ECC |\r\n",
      "| Fan  Temp  Perf  Pwr:Usage/Cap|         Memory-Usage | GPU-Util  Compute M. |\r\n",
      "|                               |                      |               MIG M. |\r\n",
      "|===============================+======================+======================|\r\n",
      "|   0  NVIDIA TITAN Xp     Off  | 00000000:01:00.0 Off |                  N/A |\r\n",
      "| 23%   34C    P8     9W / 250W |      6MiB / 12288MiB |      0%      Default |\r\n",
      "|                               |                      |                  N/A |\r\n",
      "+-------------------------------+----------------------+----------------------+\r\n",
      "                                                                               \r\n",
      "+-----------------------------------------------------------------------------+\r\n",
      "| Processes:                                                                  |\r\n",
      "|  GPU   GI   CI        PID   Type   Process name                  GPU Memory |\r\n",
      "|        ID   ID                                                   Usage      |\r\n",
      "|=============================================================================|\r\n",
      "|    0   N/A  N/A      1831      G   /usr/lib/xorg/Xorg                  4MiB |\r\n",
      "+-----------------------------------------------------------------------------+\r\n"
     ]
    }
   ],
   "source": [
    "# Check what GPU is at our disposal in this session:\n",
    "!nvidia-smi"
   ]
  },
  {
   "cell_type": "markdown",
   "metadata": {
    "colab_type": "text",
    "id": "eaiq0R5zPKW4"
   },
   "source": [
    "We can now begin the core installation process:"
   ]
  },
  {
   "cell_type": "markdown",
   "metadata": {
    "colab_type": "text",
    "id": "gnM6YMl0PrK8"
   },
   "source": [
    "All is OK! We can now move on basic setup of the tool:"
   ]
  },
  {
   "cell_type": "markdown",
   "metadata": {
    "colab_type": "text",
    "id": "wqqiHLpeQFwU"
   },
   "source": [
    "---\n",
    "\n",
    "## Register the datasets\n",
    "\n",
    "It's now time to register the datasets we have constituted in a previous notebook. As they are custom ones, we need to operate carefully and to follow the instructions given in the [Detectron2 custom dataset tutorial](https://detectron2.readthedocs.io/tutorials/datasets.html)."
   ]
  },
  {
   "cell_type": "code",
   "execution_count": 10,
   "metadata": {
    "colab": {},
    "colab_type": "code",
    "id": "8Lp-U_JpQPOS"
   },
   "outputs": [],
   "source": [
    "# Custom function to register custom dataset:\n",
    "def get_severstal_dicts(dataset_path):\n",
    "    \"\"\" Get Severstal dictionaries \"\"\"\n",
    "    \n",
    "    # Open CSV description file:\n",
    "    dataset_file_path = dataset_path + 'annotations.csv'\n",
    "    dataset = pd.read_csv(dataset_file_path)\n",
    "    \n",
    "    # Initialize list of dictionaries for dataset:\n",
    "    dataset_dicts = []\n",
    "    \n",
    "    # Go through dataset:\n",
    "    for idx, row in dataset.iterrows():\n",
    "        # Initialize record:\n",
    "        record = {}\n",
    "        # Populate first elements of record:\n",
    "        file_name = dataset_path + row['ImageId']\n",
    "        width, height = Image.open(file_name).size\n",
    "        record['file_name'] = file_name\n",
    "        record['height'] = height\n",
    "        record['width'] = width\n",
    "        record['image_id'] = idx\n",
    "        # Initialize last element of record:\n",
    "        annotations = []\n",
    "        # Get mask:\n",
    "        rle = row['EncodedPixels']\n",
    "        mask = rle_to_mask(rle)\n",
    "        # Determine contours:\n",
    "        contours, _ = cv2.findContours(mask, cv2.RETR_TREE, cv2.CHAIN_APPROX_SIMPLE)\n",
    "        # Populate last element of record:\n",
    "        for contour in contours:\n",
    "            contour_array = contour.reshape(-1, 2)\n",
    "            px = [i[0] for i in contour_array]\n",
    "            py = [j[1] for j in contour_array]\n",
    "            poly = [(x + 0.5, y + 0.5) for x, y in zip(px, py)]\n",
    "            poly = [p for x in poly for p in x]\n",
    "            x0, y0 = int(np.min(px)), int(np.min(py))\n",
    "            x1, y1 = int(np.max(px)), int(np.max(py))\n",
    "            if (len(poly)%2)==0 and len(poly)>=6:\n",
    "                annotation = {'bbox': [x0, y0, x1, y1],\n",
    "                              \n",
    "                              'segmentation': [poly],\n",
    "                              'category_id': row['ClassId'] - 1,\n",
    "                              'iscrowd': 0}\n",
    "                annotations.append(annotation)\n",
    "        record['annotations'] = annotations\n",
    "        # Add to list of dictionaries:\n",
    "        dataset_dicts.append(record)\n",
    "    \n",
    "    # Return results:\n",
    "    return dataset_dicts"
   ]
  },
  {
   "cell_type": "code",
   "execution_count": 5,
   "metadata": {
    "colab": {},
    "colab_type": "code",
    "id": "PxtAQPzBQg1a"
   },
   "outputs": [],
   "source": [
    "# Set annotations:\n",
    "severstal_annotations = ['Type 1',\n",
    "                         'Type 2',\n",
    "                         'Type 3',\n",
    "                         'Type 4']"
   ]
  },
  {
   "cell_type": "code",
   "execution_count": 11,
   "metadata": {
    "colab": {},
    "colab_type": "code",
    "id": "2kYnDhOZQicR"
   },
   "outputs": [
    {
     "ename": "NameError",
     "evalue": "name 'DatasetCatalog' is not defined",
     "output_type": "error",
     "traceback": [
      "\u001b[0;31m---------------------------------------------------------------------------\u001b[0m",
      "\u001b[0;31mNameError\u001b[0m                                 Traceback (most recent call last)",
      "\u001b[0;32m<ipython-input-11-bc08c8634a39>\u001b[0m in \u001b[0;36m<module>\u001b[0;34m\u001b[0m\n\u001b[1;32m      1\u001b[0m \u001b[0;31m# Register training and testing datasets:\u001b[0m\u001b[0;34m\u001b[0m\u001b[0;34m\u001b[0m\u001b[0;34m\u001b[0m\u001b[0m\n\u001b[1;32m      2\u001b[0m \u001b[0;32mfor\u001b[0m \u001b[0mds\u001b[0m \u001b[0;32min\u001b[0m \u001b[0;34m[\u001b[0m\u001b[0;34m'training_ds'\u001b[0m\u001b[0;34m,\u001b[0m \u001b[0;34m'testing_ds'\u001b[0m\u001b[0;34m]\u001b[0m\u001b[0;34m:\u001b[0m\u001b[0;34m\u001b[0m\u001b[0;34m\u001b[0m\u001b[0m\n\u001b[0;32m----> 3\u001b[0;31m     \u001b[0mDatasetCatalog\u001b[0m\u001b[0;34m.\u001b[0m\u001b[0mregister\u001b[0m\u001b[0;34m(\u001b[0m\u001b[0mds\u001b[0m\u001b[0;34m,\u001b[0m \u001b[0;32mlambda\u001b[0m \u001b[0mds\u001b[0m\u001b[0;34m=\u001b[0m\u001b[0mds\u001b[0m\u001b[0;34m:\u001b[0m \u001b[0mget_severstal_dicts\u001b[0m\u001b[0;34m(\u001b[0m\u001b[0;34m'../data/'\u001b[0m \u001b[0;34m+\u001b[0m \u001b[0mds\u001b[0m \u001b[0;34m+\u001b[0m \u001b[0;34m'/'\u001b[0m\u001b[0;34m)\u001b[0m\u001b[0;34m)\u001b[0m\u001b[0;34m\u001b[0m\u001b[0;34m\u001b[0m\u001b[0m\n\u001b[0m\u001b[1;32m      4\u001b[0m     \u001b[0mMetadataCatalog\u001b[0m\u001b[0;34m.\u001b[0m\u001b[0mget\u001b[0m\u001b[0;34m(\u001b[0m\u001b[0mds\u001b[0m\u001b[0;34m)\u001b[0m\u001b[0;34m.\u001b[0m\u001b[0mset\u001b[0m\u001b[0;34m(\u001b[0m\u001b[0mthing_classes\u001b[0m\u001b[0;34m=\u001b[0m\u001b[0mseverstal_annotations\u001b[0m\u001b[0;34m)\u001b[0m\u001b[0;34m\u001b[0m\u001b[0;34m\u001b[0m\u001b[0m\n",
      "\u001b[0;31mNameError\u001b[0m: name 'DatasetCatalog' is not defined"
     ]
    }
   ],
   "source": [
    "# Register training and testing datasets:\n",
    "for ds in ['training_ds', 'testing_ds']:\n",
    "    DatasetCatalog.register(ds, lambda ds=ds: get_severstal_dicts('../data/' + ds + '/'))\n",
    "    MetadataCatalog.get(ds).set(thing_classes=severstal_annotations)"
   ]
  },
  {
   "cell_type": "code",
   "execution_count": 11,
   "metadata": {
    "colab": {},
    "colab_type": "code",
    "id": "Yu0l5lNgQmyt"
   },
   "outputs": [],
   "source": [
    "# Set metadata:\n",
    "severstal_metadata = MetadataCatalog.get('training_ds')"
   ]
  },
  {
   "cell_type": "code",
   "execution_count": 13,
   "metadata": {
    "colab": {},
    "colab_type": "code",
    "id": "bWG7BaLfQrxE"
   },
   "outputs": [],
   "source": [
    "# Get training and testing datasets dictionaries lists:\n",
    "training_ds_dicts = get_severstal_dicts('data/severstal-steel-defect-detection/train_ds/')\n",
    "testing_ds_dicts = get_severstal_dicts('data/severstal-steel-defect-detection/val_ds/')"
   ]
  },
  {
   "cell_type": "code",
   "execution_count": 14,
   "metadata": {
    "colab": {
     "base_uri": "https://localhost:8080/",
     "height": 88
    },
    "colab_type": "code",
    "id": "XTUhqlqKQ48R",
    "outputId": "7dcbffa6-7299-4b2a-dc3b-35b39430ceb9"
   },
   "outputs": [
    {
     "name": "stdout",
     "output_type": "stream",
     "text": [
      "*** A random recording from testing dataset:\n",
      "\n",
      "{'file_name': 'data/severstal-steel-defect-detection/val_ds/fea8e46ad.jpg', 'height': 256, 'width': 1600, 'image_id': 2092, 'annotations': [{'bbox': [1339, 24, 1353, 255], 'segmentation': [[1347.5, 24.5, 1346.5, 25.5, 1344.5, 25.5, 1343.5, 26.5, 1341.5, 26.5, 1340.5, 27.5, 1339.5, 27.5, 1339.5, 141.5, 1340.5, 142.5, 1340.5, 255.5, 1353.5, 255.5, 1353.5, 195.5, 1352.5, 194.5, 1352.5, 140.5, 1351.5, 139.5, 1351.5, 107.5, 1350.5, 106.5, 1350.5, 74.5, 1349.5, 73.5, 1349.5, 41.5, 1348.5, 40.5, 1348.5, 24.5]], 'category_id': 2, 'iscrowd': 0}, {'bbox': [1321, 21, 1336, 254], 'segmentation': [[1321.5, 21.5, 1321.5, 131.5, 1322.5, 132.5, 1322.5, 254.5, 1336.5, 254.5, 1336.5, 226.5, 1335.5, 225.5, 1335.5, 168.5, 1334.5, 167.5, 1334.5, 109.5, 1333.5, 108.5, 1333.5, 51.5, 1332.5, 50.5, 1332.5, 21.5]], 'category_id': 2, 'iscrowd': 0}, {'bbox': [710, 2, 735, 255], 'segmentation': [[716.5, 2.5, 716.5, 9.5, 715.5, 10.5, 715.5, 27.5, 714.5, 28.5, 714.5, 45.5, 713.5, 46.5, 713.5, 63.5, 712.5, 64.5, 712.5, 81.5, 711.5, 82.5, 711.5, 191.5, 710.5, 192.5, 710.5, 255.5, 733.5, 255.5, 733.5, 103.5, 734.5, 102.5, 734.5, 35.5, 735.5, 34.5, 735.5, 2.5]], 'category_id': 2, 'iscrowd': 0}]}\n"
     ]
    }
   ],
   "source": [
    "# Display random recording:\n",
    "print('*** A random recording from testing dataset:\\n')\n",
    "print(testing_ds_dicts[2092])"
   ]
  },
  {
   "cell_type": "code",
   "execution_count": 16,
   "metadata": {},
   "outputs": [
    {
     "name": "stdout",
     "output_type": "stream",
     "text": [
      "*** A random recording from testing dataset:\n",
      "\n",
      "{'file_name': 'data/severstal-steel-defect-detection/train_ds/000f6bf48.jpg', 'height': 256, 'width': 1600, 'image_id': 2, 'annotations': [{'bbox': [853, 126, 1131, 255], 'segmentation': [[978.5, 126.5, 977.5, 127.5, 977.5, 128.5, 976.5, 129.5, 976.5, 130.5, 973.5, 133.5, 973.5, 134.5, 968.5, 139.5, 968.5, 140.5, 964.5, 144.5, 964.5, 145.5, 956.5, 153.5, 956.5, 154.5, 945.5, 165.5, 945.5, 166.5, 940.5, 171.5, 938.5, 171.5, 937.5, 172.5, 933.5, 172.5, 932.5, 173.5, 929.5, 173.5, 928.5, 174.5, 924.5, 174.5, 923.5, 175.5, 916.5, 175.5, 915.5, 174.5, 909.5, 174.5, 908.5, 173.5, 905.5, 173.5, 904.5, 172.5, 902.5, 172.5, 901.5, 171.5, 898.5, 171.5, 897.5, 170.5, 895.5, 170.5, 894.5, 169.5, 892.5, 169.5, 891.5, 168.5, 888.5, 168.5, 887.5, 167.5, 885.5, 167.5, 884.5, 166.5, 881.5, 166.5, 880.5, 165.5, 879.5, 165.5, 878.5, 166.5, 877.5, 166.5, 876.5, 167.5, 875.5, 167.5, 874.5, 168.5, 873.5, 168.5, 872.5, 169.5, 871.5, 169.5, 870.5, 170.5, 869.5, 170.5, 868.5, 171.5, 867.5, 171.5, 866.5, 172.5, 865.5, 172.5, 864.5, 173.5, 863.5, 173.5, 862.5, 174.5, 861.5, 174.5, 861.5, 175.5, 860.5, 176.5, 860.5, 179.5, 859.5, 180.5, 859.5, 183.5, 858.5, 184.5, 858.5, 187.5, 857.5, 188.5, 857.5, 190.5, 856.5, 191.5, 856.5, 194.5, 855.5, 195.5, 855.5, 198.5, 854.5, 199.5, 854.5, 202.5, 853.5, 203.5, 853.5, 204.5, 854.5, 204.5, 855.5, 205.5, 856.5, 205.5, 857.5, 206.5, 858.5, 206.5, 859.5, 207.5, 860.5, 207.5, 861.5, 208.5, 862.5, 208.5, 863.5, 209.5, 864.5, 209.5, 865.5, 210.5, 866.5, 210.5, 867.5, 211.5, 868.5, 211.5, 869.5, 212.5, 870.5, 212.5, 871.5, 213.5, 872.5, 213.5, 873.5, 214.5, 874.5, 214.5, 875.5, 215.5, 877.5, 215.5, 878.5, 216.5, 879.5, 216.5, 880.5, 217.5, 881.5, 217.5, 882.5, 218.5, 883.5, 218.5, 884.5, 219.5, 885.5, 219.5, 886.5, 220.5, 887.5, 220.5, 888.5, 221.5, 889.5, 221.5, 890.5, 222.5, 891.5, 222.5, 892.5, 223.5, 893.5, 223.5, 894.5, 224.5, 895.5, 224.5, 896.5, 225.5, 897.5, 225.5, 898.5, 226.5, 899.5, 226.5, 902.5, 229.5, 902.5, 230.5, 903.5, 231.5, 903.5, 232.5, 904.5, 233.5, 904.5, 234.5, 905.5, 235.5, 905.5, 236.5, 906.5, 237.5, 906.5, 238.5, 907.5, 239.5, 907.5, 240.5, 908.5, 241.5, 908.5, 242.5, 911.5, 245.5, 912.5, 245.5, 913.5, 246.5, 916.5, 246.5, 917.5, 247.5, 920.5, 247.5, 921.5, 248.5, 923.5, 248.5, 924.5, 249.5, 927.5, 249.5, 928.5, 250.5, 930.5, 250.5, 931.5, 251.5, 934.5, 251.5, 935.5, 252.5, 938.5, 252.5, 939.5, 253.5, 942.5, 253.5, 943.5, 254.5, 946.5, 254.5, 947.5, 255.5, 967.5, 255.5, 968.5, 254.5, 970.5, 254.5, 971.5, 253.5, 973.5, 253.5, 974.5, 252.5, 976.5, 252.5, 977.5, 251.5, 978.5, 251.5, 979.5, 250.5, 980.5, 250.5, 981.5, 249.5, 982.5, 249.5, 984.5, 247.5, 985.5, 247.5, 986.5, 246.5, 987.5, 246.5, 988.5, 245.5, 989.5, 245.5, 991.5, 243.5, 992.5, 243.5, 993.5, 242.5, 994.5, 242.5, 995.5, 241.5, 996.5, 241.5, 997.5, 242.5, 1000.5, 242.5, 1001.5, 243.5, 1004.5, 243.5, 1005.5, 244.5, 1007.5, 244.5, 1008.5, 245.5, 1010.5, 245.5, 1011.5, 246.5, 1014.5, 246.5, 1015.5, 247.5, 1017.5, 247.5, 1018.5, 248.5, 1020.5, 248.5, 1021.5, 249.5, 1027.5, 249.5, 1028.5, 250.5, 1061.5, 250.5, 1062.5, 249.5, 1091.5, 249.5, 1092.5, 248.5, 1095.5, 248.5, 1096.5, 247.5, 1099.5, 247.5, 1100.5, 246.5, 1103.5, 246.5, 1104.5, 245.5, 1107.5, 245.5, 1108.5, 244.5, 1112.5, 244.5, 1113.5, 243.5, 1116.5, 243.5, 1117.5, 242.5, 1120.5, 242.5, 1121.5, 241.5, 1124.5, 241.5, 1125.5, 240.5, 1128.5, 240.5, 1129.5, 239.5, 1131.5, 239.5, 1130.5, 238.5, 1129.5, 238.5, 1128.5, 237.5, 1127.5, 237.5, 1126.5, 236.5, 1125.5, 236.5, 1124.5, 235.5, 1123.5, 235.5, 1122.5, 234.5, 1121.5, 234.5, 1120.5, 233.5, 1119.5, 233.5, 1117.5, 231.5, 1116.5, 231.5, 1115.5, 230.5, 1114.5, 230.5, 1113.5, 229.5, 1112.5, 229.5, 1111.5, 228.5, 1110.5, 228.5, 1109.5, 227.5, 1108.5, 227.5, 1107.5, 226.5, 1106.5, 226.5, 1105.5, 225.5, 1104.5, 225.5, 1101.5, 222.5, 1100.5, 222.5, 1096.5, 218.5, 1095.5, 218.5, 1091.5, 214.5, 1090.5, 214.5, 1085.5, 209.5, 1084.5, 209.5, 1080.5, 205.5, 1079.5, 205.5, 1074.5, 200.5, 1073.5, 200.5, 1047.5, 174.5, 1047.5, 173.5, 1022.5, 148.5, 1022.5, 147.5, 1019.5, 144.5, 1019.5, 143.5, 1015.5, 139.5, 1015.5, 138.5, 1012.5, 135.5, 1012.5, 134.5, 1010.5, 132.5, 1008.5, 132.5, 1007.5, 131.5, 1003.5, 131.5, 1002.5, 130.5, 997.5, 130.5, 996.5, 129.5, 992.5, 129.5, 991.5, 128.5, 987.5, 128.5, 986.5, 127.5, 981.5, 127.5, 980.5, 126.5]], 'category_id': 3, 'iscrowd': 0}, {'bbox': [515, 0, 860, 217], 'segmentation': [[625.5, 0.5, 624.5, 1.5, 623.5, 1.5, 622.5, 2.5, 621.5, 2.5, 620.5, 3.5, 619.5, 3.5, 618.5, 4.5, 617.5, 4.5, 616.5, 5.5, 615.5, 5.5, 614.5, 6.5, 613.5, 6.5, 612.5, 7.5, 611.5, 7.5, 610.5, 8.5, 609.5, 8.5, 608.5, 9.5, 607.5, 9.5, 606.5, 10.5, 605.5, 10.5, 604.5, 11.5, 603.5, 11.5, 602.5, 12.5, 601.5, 12.5, 598.5, 15.5, 598.5, 16.5, 595.5, 19.5, 595.5, 20.5, 591.5, 24.5, 591.5, 25.5, 588.5, 28.5, 588.5, 29.5, 585.5, 32.5, 585.5, 33.5, 583.5, 35.5, 583.5, 36.5, 582.5, 37.5, 582.5, 38.5, 581.5, 39.5, 581.5, 40.5, 580.5, 41.5, 580.5, 42.5, 579.5, 43.5, 579.5, 44.5, 578.5, 45.5, 578.5, 46.5, 577.5, 47.5, 577.5, 48.5, 576.5, 49.5, 576.5, 51.5, 575.5, 52.5, 575.5, 53.5, 574.5, 54.5, 574.5, 55.5, 573.5, 56.5, 573.5, 57.5, 572.5, 58.5, 572.5, 59.5, 571.5, 60.5, 571.5, 61.5, 570.5, 62.5, 570.5, 63.5, 568.5, 65.5, 568.5, 66.5, 565.5, 69.5, 565.5, 70.5, 562.5, 73.5, 562.5, 74.5, 559.5, 77.5, 559.5, 78.5, 556.5, 81.5, 556.5, 82.5, 553.5, 85.5, 553.5, 86.5, 550.5, 89.5, 549.5, 89.5, 548.5, 90.5, 547.5, 90.5, 546.5, 91.5, 544.5, 91.5, 543.5, 92.5, 542.5, 92.5, 541.5, 93.5, 541.5, 94.5, 540.5, 95.5, 540.5, 96.5, 539.5, 97.5, 539.5, 98.5, 538.5, 99.5, 538.5, 100.5, 537.5, 101.5, 537.5, 102.5, 536.5, 103.5, 536.5, 104.5, 535.5, 105.5, 535.5, 106.5, 534.5, 107.5, 534.5, 108.5, 533.5, 109.5, 533.5, 110.5, 532.5, 111.5, 532.5, 112.5, 531.5, 113.5, 531.5, 114.5, 530.5, 115.5, 530.5, 116.5, 522.5, 124.5, 522.5, 125.5, 515.5, 132.5, 516.5, 133.5, 516.5, 134.5, 519.5, 137.5, 519.5, 138.5, 521.5, 140.5, 521.5, 141.5, 523.5, 143.5, 523.5, 144.5, 526.5, 147.5, 526.5, 148.5, 528.5, 150.5, 528.5, 151.5, 530.5, 153.5, 530.5, 154.5, 533.5, 157.5, 533.5, 158.5, 534.5, 159.5, 534.5, 160.5, 535.5, 160.5, 536.5, 161.5, 539.5, 161.5, 540.5, 162.5, 543.5, 162.5, 544.5, 163.5, 550.5, 163.5, 551.5, 164.5, 561.5, 164.5, 562.5, 165.5, 568.5, 165.5, 569.5, 166.5, 572.5, 166.5, 573.5, 167.5, 576.5, 167.5, 577.5, 168.5, 580.5, 168.5, 581.5, 169.5, 584.5, 169.5, 585.5, 170.5, 588.5, 170.5, 589.5, 171.5, 592.5, 171.5, 593.5, 172.5, 594.5, 172.5, 595.5, 173.5, 596.5, 173.5, 599.5, 176.5, 600.5, 176.5, 603.5, 179.5, 604.5, 179.5, 607.5, 182.5, 608.5, 182.5, 611.5, 185.5, 612.5, 185.5, 615.5, 188.5, 616.5, 188.5, 617.5, 189.5, 619.5, 189.5, 620.5, 190.5, 623.5, 190.5, 624.5, 191.5, 627.5, 191.5, 628.5, 192.5, 631.5, 192.5, 632.5, 193.5, 635.5, 193.5, 636.5, 194.5, 639.5, 194.5, 640.5, 195.5, 644.5, 195.5, 645.5, 196.5, 648.5, 196.5, 649.5, 197.5, 652.5, 197.5, 653.5, 198.5, 656.5, 198.5, 657.5, 199.5, 660.5, 199.5, 661.5, 200.5, 664.5, 200.5, 665.5, 201.5, 667.5, 201.5, 667.5, 199.5, 668.5, 198.5, 668.5, 197.5, 669.5, 196.5, 669.5, 195.5, 671.5, 193.5, 671.5, 192.5, 672.5, 191.5, 672.5, 190.5, 674.5, 188.5, 674.5, 187.5, 676.5, 185.5, 676.5, 184.5, 678.5, 182.5, 678.5, 181.5, 680.5, 179.5, 680.5, 178.5, 681.5, 177.5, 681.5, 176.5, 683.5, 174.5, 683.5, 173.5, 685.5, 171.5, 685.5, 170.5, 686.5, 169.5, 689.5, 172.5, 689.5, 173.5, 695.5, 179.5, 695.5, 180.5, 702.5, 187.5, 702.5, 188.5, 706.5, 192.5, 706.5, 193.5, 707.5, 194.5, 707.5, 195.5, 708.5, 196.5, 708.5, 197.5, 709.5, 198.5, 709.5, 199.5, 710.5, 200.5, 712.5, 200.5, 713.5, 201.5, 716.5, 201.5, 717.5, 202.5, 721.5, 202.5, 722.5, 203.5, 725.5, 203.5, 726.5, 204.5, 729.5, 204.5, 730.5, 205.5, 734.5, 205.5, 735.5, 206.5, 738.5, 206.5, 739.5, 207.5, 743.5, 207.5, 744.5, 208.5, 747.5, 208.5, 748.5, 209.5, 751.5, 209.5, 752.5, 210.5, 756.5, 210.5, 757.5, 211.5, 760.5, 211.5, 761.5, 212.5, 765.5, 212.5, 766.5, 213.5, 769.5, 213.5, 770.5, 214.5, 773.5, 214.5, 774.5, 215.5, 778.5, 215.5, 779.5, 216.5, 782.5, 216.5, 783.5, 217.5, 785.5, 217.5, 801.5, 201.5, 801.5, 200.5, 819.5, 182.5, 819.5, 181.5, 821.5, 179.5, 821.5, 178.5, 823.5, 176.5, 823.5, 175.5, 825.5, 173.5, 825.5, 172.5, 827.5, 170.5, 827.5, 169.5, 830.5, 166.5, 830.5, 165.5, 832.5, 163.5, 832.5, 162.5, 834.5, 160.5, 834.5, 159.5, 836.5, 157.5, 836.5, 156.5, 838.5, 154.5, 838.5, 153.5, 840.5, 151.5, 840.5, 150.5, 841.5, 149.5, 841.5, 148.5, 843.5, 146.5, 843.5, 145.5, 844.5, 144.5, 844.5, 143.5, 846.5, 141.5, 846.5, 140.5, 847.5, 139.5, 847.5, 138.5, 849.5, 136.5, 849.5, 135.5, 850.5, 134.5, 850.5, 133.5, 852.5, 131.5, 852.5, 130.5, 853.5, 129.5, 853.5, 128.5, 855.5, 126.5, 855.5, 125.5, 856.5, 124.5, 856.5, 123.5, 857.5, 122.5, 857.5, 115.5, 858.5, 114.5, 858.5, 99.5, 859.5, 98.5, 859.5, 84.5, 860.5, 83.5, 860.5, 76.5, 859.5, 75.5, 859.5, 74.5, 856.5, 71.5, 856.5, 70.5, 854.5, 68.5, 854.5, 67.5, 851.5, 64.5, 851.5, 63.5, 849.5, 61.5, 849.5, 60.5, 846.5, 57.5, 846.5, 56.5, 845.5, 55.5, 843.5, 55.5, 842.5, 54.5, 839.5, 54.5, 838.5, 53.5, 834.5, 53.5, 833.5, 52.5, 829.5, 52.5, 828.5, 51.5, 825.5, 51.5, 824.5, 50.5, 820.5, 50.5, 819.5, 49.5, 815.5, 49.5, 814.5, 48.5, 811.5, 48.5, 810.5, 47.5, 806.5, 47.5, 805.5, 46.5, 801.5, 46.5, 800.5, 45.5, 797.5, 45.5, 796.5, 44.5, 792.5, 44.5, 791.5, 43.5, 772.5, 43.5, 771.5, 44.5, 752.5, 44.5, 751.5, 43.5, 746.5, 43.5, 745.5, 42.5, 740.5, 42.5, 739.5, 41.5, 737.5, 41.5, 732.5, 36.5, 731.5, 36.5, 722.5, 27.5, 721.5, 27.5, 712.5, 18.5, 711.5, 18.5, 702.5, 9.5, 701.5, 9.5, 696.5, 4.5, 695.5, 4.5, 693.5, 2.5, 692.5, 2.5, 691.5, 1.5, 668.5, 1.5, 667.5, 0.5]], 'category_id': 3, 'iscrowd': 0}]}\n"
     ]
    }
   ],
   "source": [
    "# Display random recording:\n",
    "print('*** A random recording from testing dataset:\\n')\n",
    "print(training_ds_dicts[2])"
   ]
  },
  {
   "cell_type": "markdown",
   "metadata": {
    "colab_type": "text",
    "id": "ZQpb_uQpRAgp"
   },
   "source": [
    "To verify the data loading is correct, let's visualize the annotations of randomly selected samples in the testing set:"
   ]
  },
  {
   "cell_type": "code",
   "execution_count": 17,
   "metadata": {},
   "outputs": [
    {
     "data": {
      "text/plain": [
       "list"
      ]
     },
     "execution_count": 17,
     "metadata": {},
     "output_type": "execute_result"
    }
   ],
   "source": [
    "type(training_ds_dicts)"
   ]
  },
  {
   "cell_type": "code",
   "execution_count": 15,
   "metadata": {
    "colab": {
     "base_uri": "https://localhost:8080/",
     "height": 401
    },
    "colab_type": "code",
    "id": "sIhtr-yiREXH",
    "outputId": "1b149b61-318c-4a74-9196-32bfffe24845"
   },
   "outputs": [
    {
     "ename": "NameError",
     "evalue": "name 'Visualizer' is not defined",
     "output_type": "error",
     "traceback": [
      "\u001b[0;31m---------------------------------------------------------------------------\u001b[0m",
      "\u001b[0;31mNameError\u001b[0m                                 Traceback (most recent call last)",
      "\u001b[0;32m<ipython-input-15-be09c4dd367e>\u001b[0m in \u001b[0;36m<module>\u001b[0;34m\u001b[0m\n\u001b[1;32m      2\u001b[0m \u001b[0;32mfor\u001b[0m \u001b[0mrecording\u001b[0m \u001b[0;32min\u001b[0m \u001b[0mrandom\u001b[0m\u001b[0;34m.\u001b[0m\u001b[0msample\u001b[0m\u001b[0;34m(\u001b[0m\u001b[0mtesting_ds_dicts\u001b[0m\u001b[0;34m,\u001b[0m \u001b[0;36m3\u001b[0m\u001b[0;34m)\u001b[0m\u001b[0;34m:\u001b[0m\u001b[0;34m\u001b[0m\u001b[0;34m\u001b[0m\u001b[0m\n\u001b[1;32m      3\u001b[0m     \u001b[0mimg\u001b[0m \u001b[0;34m=\u001b[0m \u001b[0mcv2\u001b[0m\u001b[0;34m.\u001b[0m\u001b[0mimread\u001b[0m\u001b[0;34m(\u001b[0m\u001b[0mrecording\u001b[0m\u001b[0;34m[\u001b[0m\u001b[0;34m'file_name'\u001b[0m\u001b[0;34m]\u001b[0m\u001b[0;34m)\u001b[0m\u001b[0;34m\u001b[0m\u001b[0;34m\u001b[0m\u001b[0m\n\u001b[0;32m----> 4\u001b[0;31m     visualizer = Visualizer(img[:, :, ::-1],\n\u001b[0m\u001b[1;32m      5\u001b[0m                             \u001b[0mmetadata\u001b[0m\u001b[0;34m=\u001b[0m\u001b[0mseverstal_metadata\u001b[0m\u001b[0;34m,\u001b[0m\u001b[0;34m\u001b[0m\u001b[0;34m\u001b[0m\u001b[0m\n\u001b[1;32m      6\u001b[0m                             scale=0.5)\n",
      "\u001b[0;31mNameError\u001b[0m: name 'Visualizer' is not defined"
     ]
    }
   ],
   "source": [
    "# Some random visualizations:\n",
    "for recording in random.sample(testing_ds_dicts, 3):\n",
    "    img = cv2.imread(recording['file_name'])\n",
    "    visualizer = Visualizer(img[:, :, ::-1],\n",
    "                            metadata=severstal_metadata,\n",
    "                            scale=0.5)\n",
    "    out = visualizer.draw_dataset_dict(recording)\n",
    "    cv2_imshow(out.get_image()[:, :, ::-1])"
   ]
  },
  {
   "cell_type": "code",
   "execution_count": 20,
   "metadata": {},
   "outputs": [],
   "source": [
    "import json\n",
    "j_obj = json.dumps(training_ds_dicts)\n",
    "\n",
    "# Writing to sample.json\n",
    "with open(\"training_ds.json\", \"w\") as outfile:\n",
    "    outfile.write(j_obj)\n"
   ]
  },
  {
   "cell_type": "code",
   "execution_count": 21,
   "metadata": {},
   "outputs": [],
   "source": [
    "import json\n",
    "j_obj = json.dumps(testing_ds_dicts)\n",
    "\n",
    "# Writing to sample.json\n",
    "with open(\"testing_ds.json\", \"w\") as outfile:\n",
    "    outfile.write(j_obj)"
   ]
  },
  {
   "cell_type": "code",
   "execution_count": null,
   "metadata": {},
   "outputs": [],
   "source": []
  }
 ],
 "metadata": {
  "accelerator": "GPU",
  "colab": {
   "name": "04_first-experiment.ipynb",
   "provenance": []
  },
  "kernelspec": {
   "display_name": "Python 3",
   "language": "python",
   "name": "python3"
  },
  "language_info": {
   "codemirror_mode": {
    "name": "ipython",
    "version": 3
   },
   "file_extension": ".py",
   "mimetype": "text/x-python",
   "name": "python",
   "nbconvert_exporter": "python",
   "pygments_lexer": "ipython3",
   "version": "3.6.13"
  }
 },
 "nbformat": 4,
 "nbformat_minor": 4
}
